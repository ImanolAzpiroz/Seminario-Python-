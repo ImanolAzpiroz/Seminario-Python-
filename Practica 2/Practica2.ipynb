{
 "cells": [
  {
   "cell_type": "markdown",
   "metadata": {},
   "source": [
    "# Practica 2"
   ]
  },
  {
   "cell_type": "markdown",
   "metadata": {},
   "source": [
    "## Ejercicio 1"
   ]
  },
  {
   "cell_type": "code",
   "execution_count": null,
   "metadata": {},
   "outputs": [],
   "source": [
    "# 1)\n",
    "import re\n",
    "import this \n",
    "\n",
    "zen = \"\"\"Bello es mejor que feo.\n",
    "Explícito es mejor que implícito.\n",
    "Simple es mejor que complejo.\n",
    "Complejo es mejor que complicado.\n",
    "Plano es mejor que anidado.\n",
    "Espaciado es mejor que denso.\n",
    "La legibilidad es importante.\n",
    "Los casos especiales no son lo suficientemente especiales como para romper las reglas.\n",
    "Sin embargo la practicidad le gana a la pureza.\n",
    "Los errores nunca deberían pasar silenciosamente.\n",
    "A menos que se silencien explícitamente.\n",
    "Frente a la ambigüedad, evitar la tentación de adivinar.\n",
    "Debería haber una, y preferiblemente solo una, manera obvia de hacerlo.\n",
    "A pesar de que eso no sea obvio al principio a menos que seas Holandés.\n",
    "Ahora es mejor que nunca.\n",
    "A pesar de que nunca es muchas veces mejor que *ahora* mismo.\n",
    "Si la implementación es difícil de explicar, es una mala idea.\n",
    "Si la implementación es fácil de explicar, puede que sea una buena idea.\n",
    "Los espacios de nombres son una gran idea, ¡tengamos más de esos! \"\"\"\n",
    "\n",
    "# Separa el zen por oracion. \n",
    "zen_splited = zen.split(\"\\n\")\n",
    "\n",
    "for sentence in zen_splited:\n",
    "    if re.match(r\"^[aeiouAEIOU]\", sentence.split()[1]):\n",
    "        print(sentence)\n",
    "    \n",
    "\n",
    "\n",
    "\n"
   ]
  },
  {
   "cell_type": "markdown",
   "metadata": {},
   "source": [
    "## Ejercicio 2"
   ]
  },
  {
   "cell_type": "code",
   "execution_count": null,
   "metadata": {},
   "outputs": [
    {
     "name": "stdout",
     "output_type": "stream",
     "text": [
      "Jugando al nuevo FPS del momento con amigos\n"
     ]
    }
   ],
   "source": [
    "titles = [\n",
    "    \"Speedrun de Super Mario en tiempo récord\",\n",
    "    \"Charla sobre desarrollo de videojuegos\",\n",
    "    \"Jugando al nuevo FPS del momento con amigos\",\n",
    "    \"Música en vivo: improvisaciones al piano\"\n",
    "]\n",
    "\n",
    "print(max(titles, key=len))"
   ]
  },
  {
   "cell_type": "markdown",
   "metadata": {},
   "source": [
    "## Ejercicio 3"
   ]
  },
  {
   "cell_type": "code",
   "execution_count": 2,
   "metadata": {},
   "outputs": [
    {
     "name": "stdout",
     "output_type": "stream",
     "text": [
      "['Respeta a los demás', 'No se permiten insultos ni lenguaje ofensivo', 'Evita el spam', 'No publiques enlaces sospechosos o repetitivos', 'No compartas información personal', 'Usa los canales adecuados para cada tema', 'Sigue las instrucciones de los moderadores.']\n",
      "No se permiten insultos ni lenguaje ofensivo\n",
      "No publiques enlaces sospechosos o repetitivos\n",
      "No compartas información personal\n"
     ]
    }
   ],
   "source": [
    "import re \n",
    "\n",
    "rules = \"\"\"Respeta a los demás. No se permiten insultos ni lenguaje\n",
    "ofensivo.\n",
    "Evita el spam. No publiques enlaces sospechosos o repetitivos.\n",
    "No compartas información personal.\n",
    "Usa los canales adecuados para cada tema.\n",
    "Sigue las instrucciones de los moderadores.\"\"\"\n",
    "\n",
    "\n",
    "rules_splited = rules.replace(\"\\n\",\" \").split(\". \")\n",
    "\n",
    "print(rules_splited)\n",
    "\n",
    "word = input(\"Enter a word: \")\n",
    "\n",
    "for sentence in rules_splited:\n",
    "    if re.search(word, sentence, re.IGNORECASE):\n",
    "        print(sentence)\n",
    "\n"
   ]
  },
  {
   "cell_type": "markdown",
   "metadata": {},
   "source": [
    "## Ejercicio 4"
   ]
  },
  {
   "cell_type": "code",
   "execution_count": null,
   "metadata": {},
   "outputs": [],
   "source": [
    "import re\n",
    "\n",
    "name = input(\"Ingrese su usuario: \")\n",
    "\n",
    "# Aprendiendo Regex\n",
    "# ^ Principio y $ final de la cadena\n",
    "# min = \"a-z\"\n",
    "# may = \"A-Z\"\n",
    "# digitos = 0-9\n",
    "\n",
    "\n",
    "regex = r\"^(?=.*[0-9])(?=.*[A-Z])[a-zA-Z0-9]{5,}$\"\n",
    "\n",
    "if re.match(regex, name):\n",
    "    print(\"Usuario Valido!\")\n",
    "else:\n",
    "    print(\"El usuario no cumple con los requisitos.\")\n",
    "\n"
   ]
  }
 ],
 "metadata": {
  "kernelspec": {
   "display_name": "base",
   "language": "python",
   "name": "python3"
  },
  "language_info": {
   "codemirror_mode": {
    "name": "ipython",
    "version": 3
   },
   "file_extension": ".py",
   "mimetype": "text/x-python",
   "name": "python",
   "nbconvert_exporter": "python",
   "pygments_lexer": "ipython3",
   "version": "3.11.3"
  }
 },
 "nbformat": 4,
 "nbformat_minor": 2
}
