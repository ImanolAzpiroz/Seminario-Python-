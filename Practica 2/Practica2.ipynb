{
 "cells": [
  {
   "cell_type": "markdown",
   "metadata": {},
   "source": [
    "# Practica 2"
   ]
  },
  {
   "cell_type": "markdown",
   "metadata": {},
   "source": [
    "## Ejercicio 1"
   ]
  },
  {
   "cell_type": "code",
   "execution_count": null,
   "metadata": {},
   "outputs": [],
   "source": [
    "# 1)\n",
    "import re\n",
    "import this \n",
    "\n",
    "zen = \"\"\"Bello es mejor que feo.\n",
    "Explícito es mejor que implícito.\n",
    "Simple es mejor que complejo.\n",
    "Complejo es mejor que complicado.\n",
    "Plano es mejor que anidado.\n",
    "Espaciado es mejor que denso.\n",
    "La legibilidad es importante.\n",
    "Los casos especiales no son lo suficientemente especiales como para romper las reglas.\n",
    "Sin embargo la practicidad le gana a la pureza.\n",
    "Los errores nunca deberían pasar silenciosamente.\n",
    "A menos que se silencien explícitamente.\n",
    "Frente a la ambigüedad, evitar la tentación de adivinar.\n",
    "Debería haber una, y preferiblemente solo una, manera obvia de hacerlo.\n",
    "A pesar de que eso no sea obvio al principio a menos que seas Holandés.\n",
    "Ahora es mejor que nunca.\n",
    "A pesar de que nunca es muchas veces mejor que *ahora* mismo.\n",
    "Si la implementación es difícil de explicar, es una mala idea.\n",
    "Si la implementación es fácil de explicar, puede que sea una buena idea.\n",
    "Los espacios de nombres son una gran idea, ¡tengamos más de esos! \"\"\"\n",
    "\n",
    "# Separa el zen por oracion. \n",
    "zen_splited = zen.split(\"\\n\")\n",
    "\n",
    "for sentence in zen_splited:\n",
    "    if re.match(r\"^[aeiouAEIOU]\", sentence.split()[1]):\n",
    "        print(sentence)\n",
    "    \n",
    "\n",
    "\n",
    "# Test expresiones regulares\n",
    "# text = \"Imanol Azpiroz\"\n",
    "# match = re.match(r\"^[Ima]\", text)\n",
    "\n",
    "# print(match.group())\n",
    "\n",
    "#   print(word) if re.match(r\"^[aeiouAEIOU]\", word) else None\n"
   ]
  }
 ],
 "metadata": {
  "kernelspec": {
   "display_name": "Python 3 (ipykernel)",
   "language": "python",
   "name": "python3"
  },
  "language_info": {
   "codemirror_mode": {
    "name": "ipython",
    "version": 3
   },
   "file_extension": ".py",
   "mimetype": "text/x-python",
   "name": "python",
   "nbconvert_exporter": "python",
   "pygments_lexer": "ipython3",
   "version": "3.12.9"
  }
 },
 "nbformat": 4,
 "nbformat_minor": 2
}
