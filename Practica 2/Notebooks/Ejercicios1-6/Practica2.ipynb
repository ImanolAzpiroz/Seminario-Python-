{
 "cells": [
  {
   "cell_type": "markdown",
   "metadata": {},
   "source": [
    "# Practica 2"
   ]
  },
  {
   "cell_type": "markdown",
   "metadata": {},
   "source": [
    "## Ejercicio 1"
   ]
  },
  {
   "cell_type": "code",
   "execution_count": null,
   "metadata": {},
   "outputs": [],
   "source": [
    "# 1)\n",
    "import re\n",
    "import this \n",
    "\n",
    "zen = \"\"\"Bello es mejor que feo.\n",
    "Explícito es mejor que implícito.\n",
    "Simple es mejor que complejo.\n",
    "Complejo es mejor que complicado.\n",
    "Plano es mejor que anidado.\n",
    "Espaciado es mejor que denso.\n",
    "La legibilidad es importante.\n",
    "Los casos especiales no son lo suficientemente especiales como para romper las reglas.\n",
    "Sin embargo la practicidad le gana a la pureza.\n",
    "Los errores nunca deberían pasar silenciosamente.\n",
    "A menos que se silencien explícitamente.\n",
    "Frente a la ambigüedad, evitar la tentación de adivinar.\n",
    "Debería haber una, y preferiblemente solo una, manera obvia de hacerlo.\n",
    "A pesar de que eso no sea obvio al principio a menos que seas Holandés.\n",
    "Ahora es mejor que nunca.\n",
    "A pesar de que nunca es muchas veces mejor que *ahora* mismo.\n",
    "Si la implementación es difícil de explicar, es una mala idea.\n",
    "Si la implementación es fácil de explicar, puede que sea una buena idea.\n",
    "Los espacios de nombres son una gran idea, ¡tengamos más de esos! \"\"\"\n",
    "\n",
    "# Separa el zen por oracion. \n",
    "zen_splited = zen.split(\"\\n\")\n",
    "\n",
    "for sentence in zen_splited:\n",
    "    if re.match(r\"^[aeiouAEIOU]\", sentence.split()[1]):\n",
    "        print(sentence)\n",
    "    \n",
    "\n",
    "\n",
    "\n"
   ]
  },
  {
   "cell_type": "markdown",
   "metadata": {},
   "source": [
    "## Ejercicio 2"
   ]
  },
  {
   "cell_type": "code",
   "execution_count": 1,
   "metadata": {},
   "outputs": [
    {
     "name": "stdout",
     "output_type": "stream",
     "text": [
      "Jugando al nuevo FPS del momento con amigos\n"
     ]
    }
   ],
   "source": [
    "titles = [\n",
    "    \"Speedrun de Super Mario en tiempo récord\",\n",
    "    \"Charla sobre desarrollo de videojuegos\",\n",
    "    \"Jugando al nuevo FPS del momento con amigos\",\n",
    "    \"Música en vivo: improvisaciones al piano\"\n",
    "]\n",
    "\n",
    "print(max(titles, key=len))"
   ]
  },
  {
   "cell_type": "markdown",
   "metadata": {},
   "source": [
    "## Ejercicio 3"
   ]
  },
  {
   "cell_type": "code",
   "execution_count": 2,
   "metadata": {},
   "outputs": [
    {
     "name": "stdout",
     "output_type": "stream",
     "text": [
      "['Respeta a los demás', 'No se permiten insultos ni lenguaje ofensivo', 'Evita el spam', 'No publiques enlaces sospechosos o repetitivos', 'No compartas información personal', 'Usa los canales adecuados para cada tema', 'Sigue las instrucciones de los moderadores.']\n",
      "No se permiten insultos ni lenguaje ofensivo\n",
      "No publiques enlaces sospechosos o repetitivos\n",
      "No compartas información personal\n"
     ]
    }
   ],
   "source": [
    "import re \n",
    "\n",
    "rules = \"\"\"Respeta a los demás. No se permiten insultos ni lenguaje\n",
    "ofensivo.\n",
    "Evita el spam. No publiques enlaces sospechosos o repetitivos.\n",
    "No compartas información personal.\n",
    "Usa los canales adecuados para cada tema.\n",
    "Sigue las instrucciones de los moderadores.\"\"\"\n",
    "\n",
    "\n",
    "rules_splited = rules.replace(\"\\n\",\" \").split(\". \")\n",
    "\n",
    "print(rules_splited)\n",
    "\n",
    "word = input(\"Enter a word: \")\n",
    "\n",
    "for sentence in rules_splited:\n",
    "    if re.search(word, sentence, re.IGNORECASE):\n",
    "        print(sentence)\n",
    "\n"
   ]
  },
  {
   "cell_type": "markdown",
   "metadata": {},
   "source": [
    "## Ejercicio 4"
   ]
  },
  {
   "cell_type": "code",
   "execution_count": null,
   "metadata": {},
   "outputs": [],
   "source": [
    "import re\n",
    "\n",
    "name = input(\"Ingrese su usuario: \")\n",
    "\n",
    "# Aprendiendo Regex\n",
    "# ^ Principio y $ final de la cadena\n",
    "# min = \"a-z\"\n",
    "# may = \"A-Z\"\n",
    "# digitos = 0-9\n",
    "\n",
    "\n",
    "regex = r\"^(?=.*[0-9])(?=.*[A-Z])[a-zA-Z0-9]{5,}$\"\n",
    "\n",
    "if re.match(regex, name):\n",
    "    print(\"Usuario Valido!\")\n",
    "else:\n",
    "    print(\"El usuario no cumple con los requisitos.\")\n",
    "\n"
   ]
  },
  {
   "cell_type": "markdown",
   "metadata": {},
   "source": [
    "## Ejercicio 5"
   ]
  },
  {
   "cell_type": "code",
   "execution_count": null,
   "metadata": {},
   "outputs": [],
   "source": [
    "def calcular_tiempo_reaccion(time):\n",
    "    \"\"\"Devuelve un string con la categoria correspondiente. \"\"\"\n",
    "\n",
    "    if (time < 200):\n",
    "        return \"Rapida\"\n",
    "    elif (200 <= time <= 500):\n",
    "        return \"Normal\"\n",
    "    else:\n",
    "        return \"Lento\"\n",
    "    \n",
    "\n",
    "try :\n",
    "    reaction_time = int(input(\"Ingrese su velocidad de reaccion en ms: \"))\n",
    "    category = calcular_tiempo_reaccion(reaction_time)\n",
    "    print(f\"Tiempo de reaccion: {reaction_time}\")\n",
    "    print(f\"Categoria: {category}\")\n",
    "\n",
    "except ValueError:\n",
    "    print(\"Ingrese un valor numerico.\")"
   ]
  },
  {
   "cell_type": "markdown",
   "metadata": {},
   "source": [
    "## Ejercicio 6"
   ]
  },
  {
   "cell_type": "code",
   "execution_count": null,
   "metadata": {},
   "outputs": [
    {
     "name": "stdout",
     "output_type": "stream",
     "text": [
      "1\n"
     ]
    }
   ],
   "source": [
    "\n",
    "\n",
    "descriptions = [\n",
    "    \"Streaming de música en vivo con covers y composiciones\",\n",
    "    \"Charla interactiva con la audiencia sobre series y películas\",\n",
    "    \"Jugamos a juegos retro y charlamos sobre su historia\",\n",
    "    \"Exploramos la mejor música de los 80s y 90s\",\n",
    "    \"Programa de entretenimiento con noticias y curiosidades del mundo gamer\",\n",
    "    \"Sesión de charla con invitados especiales del mundo del streaming\",\n",
    "    \"Música en directo con improvisaciones y peticiones del chat\",\n",
    "    \"Un espacio para charlar relajada sobre tecnología y cultura digital\",\n",
    "    \"Exploramos el impacto de la música en los videojuegos clásicos\"\n",
    "]\n",
    "\n",
    "word_list = [\"música\", \"charla\", \"entretenimiento\"]\n",
    "\n",
    "count = {word: 0 for word in word_list}\n",
    "\n",
    "print(count)\n",
    "\n",
    "\n",
    "\n"
   ]
  }
 ],
 "metadata": {
  "kernelspec": {
   "display_name": "base",
   "language": "python",
   "name": "python3"
  },
  "language_info": {
   "codemirror_mode": {
    "name": "ipython",
    "version": 3
   },
   "file_extension": ".py",
   "mimetype": "text/x-python",
   "name": "python",
   "nbconvert_exporter": "python",
   "pygments_lexer": "ipython3",
   "version": "3.11.3"
  }
 },
 "nbformat": 4,
 "nbformat_minor": 2
}
